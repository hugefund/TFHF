{
 "cells": [
  {
   "cell_type": "code",
   "execution_count": 1,
   "id": "54c86002",
   "metadata": {},
   "outputs": [],
   "source": [
    "import pandas as pd"
   ]
  },
  {
   "cell_type": "code",
   "execution_count": 17,
   "id": "2819ee39",
   "metadata": {},
   "outputs": [],
   "source": [
    "data = pd.read_csv('./gubaGimi.csv')"
   ]
  },
  {
   "cell_type": "code",
   "execution_count": 18,
   "id": "f9244512",
   "metadata": {},
   "outputs": [],
   "source": [
    "data=data.loc[:, ~data.columns.str.contains('^Unnamed')]"
   ]
  },
  {
   "cell_type": "code",
   "execution_count": 21,
   "id": "458131f8",
   "metadata": {},
   "outputs": [
    {
     "data": {
      "text/html": [
       "<div>\n",
       "<style scoped>\n",
       "    .dataframe tbody tr th:only-of-type {\n",
       "        vertical-align: middle;\n",
       "    }\n",
       "\n",
       "    .dataframe tbody tr th {\n",
       "        vertical-align: top;\n",
       "    }\n",
       "\n",
       "    .dataframe thead th {\n",
       "        text-align: right;\n",
       "    }\n",
       "</style>\n",
       "<table border=\"1\" class=\"dataframe\">\n",
       "  <thead>\n",
       "    <tr style=\"text-align: right;\">\n",
       "      <th></th>\n",
       "      <th>时间</th>\n",
       "      <th>姓名</th>\n",
       "      <th>内容</th>\n",
       "      <th>阅读</th>\n",
       "      <th>评论</th>\n",
       "    </tr>\n",
       "  </thead>\n",
       "  <tbody>\n",
       "    <tr>\n",
       "      <th>0</th>\n",
       "      <td>2021/9/21 15:04</td>\n",
       "      <td>两融追踪</td>\n",
       "      <td>极米科技连续3周融资净偿还合计6087.51万元</td>\n",
       "      <td>155</td>\n",
       "      <td>0</td>\n",
       "    </tr>\n",
       "    <tr>\n",
       "      <th>1</th>\n",
       "      <td>2021/9/20 14:14</td>\n",
       "      <td>股友6esee2</td>\n",
       "      <td>无论在哪个平台，极米销量都是遥遥领先。而且目前还供</td>\n",
       "      <td>553</td>\n",
       "      <td>5</td>\n",
       "    </tr>\n",
       "    <tr>\n",
       "      <th>2</th>\n",
       "      <td>2021/9/19 0:20</td>\n",
       "      <td>吉上吉</td>\n",
       "      <td>这样惨烈下跌也没谁了吧</td>\n",
       "      <td>175</td>\n",
       "      <td>0</td>\n",
       "    </tr>\n",
       "    <tr>\n",
       "      <th>3</th>\n",
       "      <td>2021/9/18 14:14</td>\n",
       "      <td>极米科技资讯</td>\n",
       "      <td>极米科技：融资净偿还219.42万元，融资余额3.12亿元（</td>\n",
       "      <td>375</td>\n",
       "      <td>1</td>\n",
       "    </tr>\n",
       "    <tr>\n",
       "      <th>4</th>\n",
       "      <td>2021/9/17 20:20</td>\n",
       "      <td>巴菲特BMW</td>\n",
       "      <td>极米三季报估计老惨了</td>\n",
       "      <td>237</td>\n",
       "      <td>2</td>\n",
       "    </tr>\n",
       "    <tr>\n",
       "      <th>...</th>\n",
       "      <td>...</td>\n",
       "      <td>...</td>\n",
       "      <td>...</td>\n",
       "      <td>...</td>\n",
       "      <td>...</td>\n",
       "    </tr>\n",
       "    <tr>\n",
       "      <th>3547</th>\n",
       "      <td>2021/9/11 22:48</td>\n",
       "      <td>极米科技资讯</td>\n",
       "      <td>8-1发行人及保荐机构回复意见(二)(成都极米科技股份有</td>\n",
       "      <td>414</td>\n",
       "      <td>0</td>\n",
       "    </tr>\n",
       "    <tr>\n",
       "      <th>3548</th>\n",
       "      <td>2021/7/29 17:15</td>\n",
       "      <td>极米科技资讯</td>\n",
       "      <td>8-3律师补充法律意见书(一)(成都极米科技股份有限公司</td>\n",
       "      <td>654</td>\n",
       "      <td>0</td>\n",
       "    </tr>\n",
       "    <tr>\n",
       "      <th>3549</th>\n",
       "      <td>2021/5/8 17:17</td>\n",
       "      <td>极米科技资讯</td>\n",
       "      <td>信永中和会计师事务所(特殊普通合伙)关于成都极米科技</td>\n",
       "      <td>229</td>\n",
       "      <td>0</td>\n",
       "    </tr>\n",
       "    <tr>\n",
       "      <th>3550</th>\n",
       "      <td>2021/5/8 17:16</td>\n",
       "      <td>极米科技资讯</td>\n",
       "      <td>中国国际金融股份有限公司关于成都极米科技股份有限公</td>\n",
       "      <td>247</td>\n",
       "      <td>0</td>\n",
       "    </tr>\n",
       "    <tr>\n",
       "      <th>3551</th>\n",
       "      <td>2021/5/8 17:16</td>\n",
       "      <td>极米科技资讯</td>\n",
       "      <td>成都极米科技股份有限公司科创板首次公开发行股票招股</td>\n",
       "      <td>699</td>\n",
       "      <td>0</td>\n",
       "    </tr>\n",
       "  </tbody>\n",
       "</table>\n",
       "<p>3552 rows × 5 columns</p>\n",
       "</div>"
      ],
      "text/plain": [
       "                   时间        姓名                              内容   阅读  评论\n",
       "0     2021/9/21 15:04      两融追踪        极米科技连续3周融资净偿还合计6087.51万元  155   0\n",
       "1     2021/9/20 14:14  股友6esee2       无论在哪个平台，极米销量都是遥遥领先。而且目前还供  553   5\n",
       "2      2021/9/19 0:20       吉上吉                     这样惨烈下跌也没谁了吧  175   0\n",
       "3     2021/9/18 14:14    极米科技资讯  极米科技：融资净偿还219.42万元，融资余额3.12亿元（  375   1\n",
       "4     2021/9/17 20:20    巴菲特BMW                      极米三季报估计老惨了  237   2\n",
       "...               ...       ...                             ...  ...  ..\n",
       "3547  2021/9/11 22:48    极米科技资讯    8-1发行人及保荐机构回复意见(二)(成都极米科技股份有  414   0\n",
       "3548  2021/7/29 17:15    极米科技资讯    8-3律师补充法律意见书(一)(成都极米科技股份有限公司  654   0\n",
       "3549   2021/5/8 17:17    极米科技资讯      信永中和会计师事务所(特殊普通合伙)关于成都极米科技  229   0\n",
       "3550   2021/5/8 17:16    极米科技资讯       中国国际金融股份有限公司关于成都极米科技股份有限公  247   0\n",
       "3551   2021/5/8 17:16    极米科技资讯       成都极米科技股份有限公司科创板首次公开发行股票招股  699   0\n",
       "\n",
       "[3552 rows x 5 columns]"
      ]
     },
     "execution_count": 21,
     "metadata": {},
     "output_type": "execute_result"
    }
   ],
   "source": [
    "data"
   ]
  },
  {
   "cell_type": "code",
   "execution_count": 22,
   "id": "1ccd0ea5",
   "metadata": {},
   "outputs": [
    {
     "data": {
      "text/plain": [
       "count     3552.000000\n",
       "mean       620.870777\n",
       "std       2234.393972\n",
       "min         77.000000\n",
       "25%        190.000000\n",
       "50%        266.000000\n",
       "75%        455.000000\n",
       "max      68842.000000\n",
       "Name: 阅读, dtype: float64"
      ]
     },
     "execution_count": 22,
     "metadata": {},
     "output_type": "execute_result"
    }
   ],
   "source": [
    "data['阅读'].describe()"
   ]
  },
  {
   "cell_type": "code",
   "execution_count": 23,
   "id": "bbe78e67",
   "metadata": {},
   "outputs": [
    {
     "data": {
      "text/plain": [
       "count    3552.000000\n",
       "mean        1.872748\n",
       "std         7.890451\n",
       "min         0.000000\n",
       "25%         0.000000\n",
       "50%         0.000000\n",
       "75%         2.000000\n",
       "max       341.000000\n",
       "Name: 评论, dtype: float64"
      ]
     },
     "execution_count": 23,
     "metadata": {},
     "output_type": "execute_result"
    }
   ],
   "source": [
    "data['评论'].describe()"
   ]
  },
  {
   "cell_type": "code",
   "execution_count": null,
   "id": "12a3365d",
   "metadata": {},
   "outputs": [],
   "source": []
  }
 ],
 "metadata": {
  "kernelspec": {
   "display_name": "Python 3",
   "language": "python",
   "name": "python3"
  },
  "language_info": {
   "codemirror_mode": {
    "name": "ipython",
    "version": 3
   },
   "file_extension": ".py",
   "mimetype": "text/x-python",
   "name": "python",
   "nbconvert_exporter": "python",
   "pygments_lexer": "ipython3",
   "version": "3.7.7"
  }
 },
 "nbformat": 4,
 "nbformat_minor": 5
}
